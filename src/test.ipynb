{
 "cells": [
  {
   "cell_type": "code",
   "execution_count": null,
   "metadata": {},
   "outputs": [],
   "source": [
    "from segmentation import *\n",
    "from utils import *\n",
    "from optimization import *\n",
    "\n",
    "import os"
   ]
  },
  {
   "cell_type": "code",
   "execution_count": null,
   "metadata": {},
   "outputs": [],
   "source": [
    "data_path = '../data/'\n",
    "input_path = data_path + 'input/'\n",
    "input = '97_0.jpg'\n",
    "\n",
    "image_id = input.split('.')[0]\n",
    "image = plt.imread(input_path + input)\n",
    "fov = int(image_id.split('_')[0])\n",
    "padding = 6\n",
    "downsample = 2\n",
    "\n",
    "out_mesh = data_path + image_id + '_mesh.png'\n",
    "out_image = data_path + image_id + '_out.png'\n",
    "\n",
    "face_masks = get_face_masks(image)\n",
    "face_weights = get_face_weights(face_masks, padding=padding)\n",
    "\n",
    "source_mesh, stereographic_mesh = get_meshes(image, fov, padding=padding)\n",
    "# plot_mesh(source_mesh)\n",
    "# plot_mesh(stereographic_mesh)\n",
    "# stereo_proj = stereographic_projection(image, fov)\n",
    "# stereo_proj = warp(image, stereographic_mesh, downsample=10)\n",
    "correction_strength = radial_sigmoid(image, source_mesh, fov)"
   ]
  },
  {
   "cell_type": "code",
   "execution_count": null,
   "metadata": {},
   "outputs": [],
   "source": [
    "optimesh = optimize(source_mesh, stereographic_mesh, face_weights, correction_strength, padding=padding,\n",
    "                    lbd_b=16.0, lbd_r=4.0)\n",
    "plot_mesh(optimesh, save='mesh_padding_6.png')\n",
    "warped = warp(image, optimesh, downsample=downsample)\n",
    "plt.figure(dpi=300)\n",
    "plt.imshow(warped.astype(np.uint8))\n",
    "plt.axis('off')\n",
    "plt.savefig('out_padding_6.png', bbox_inches='tight', pad_inches=0)"
   ]
  }
 ],
 "metadata": {
  "kernelspec": {
   "display_name": "15663",
   "language": "python",
   "name": "python3"
  },
  "language_info": {
   "codemirror_mode": {
    "name": "ipython",
    "version": 3
   },
   "file_extension": ".py",
   "mimetype": "text/x-python",
   "name": "python",
   "nbconvert_exporter": "python",
   "pygments_lexer": "ipython3",
   "version": "3.9.18"
  }
 },
 "nbformat": 4,
 "nbformat_minor": 2
}
