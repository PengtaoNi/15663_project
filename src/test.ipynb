{
 "cells": [
  {
   "cell_type": "code",
   "execution_count": null,
   "metadata": {},
   "outputs": [],
   "source": [
    "from segmentation import *\n",
    "from utils import *\n",
    "from optimization import *"
   ]
  },
  {
   "cell_type": "code",
   "execution_count": null,
   "metadata": {},
   "outputs": [],
   "source": [
    "image = plt.imread('../data/test.jpg')\n",
    "fov = 97\n",
    "padding = 4"
   ]
  },
  {
   "cell_type": "markdown",
   "metadata": {},
   "source": [
    "### Subject Mask Segmentation"
   ]
  },
  {
   "cell_type": "code",
   "execution_count": null,
   "metadata": {},
   "outputs": [],
   "source": [
    "face_masks = get_face_masks(image)"
   ]
  },
  {
   "cell_type": "code",
   "execution_count": null,
   "metadata": {},
   "outputs": [],
   "source": [
    "face_weights = get_face_weights(face_masks, padding=padding)"
   ]
  },
  {
   "cell_type": "markdown",
   "metadata": {},
   "source": [
    "### Mesh"
   ]
  },
  {
   "cell_type": "code",
   "execution_count": null,
   "metadata": {},
   "outputs": [],
   "source": [
    "source_mesh, stereographic_mesh = get_meshes(image, fov, padding=padding)"
   ]
  },
  {
   "cell_type": "code",
   "execution_count": null,
   "metadata": {},
   "outputs": [],
   "source": [
    "# plot_mesh(source_mesh)\n",
    "# plot_mesh(stereographic_mesh)"
   ]
  },
  {
   "cell_type": "code",
   "execution_count": null,
   "metadata": {},
   "outputs": [],
   "source": [
    "# stereo_proj = stereographic_projection(image, fov)\n",
    "# stereo_proj = warp(image, stereographic_mesh, downsample=10)"
   ]
  },
  {
   "cell_type": "code",
   "execution_count": null,
   "metadata": {},
   "outputs": [],
   "source": [
    "correction_strength = radial_sigmoid(image, source_mesh, fov)"
   ]
  },
  {
   "cell_type": "markdown",
   "metadata": {},
   "source": [
    "### Optimization"
   ]
  },
  {
   "cell_type": "code",
   "execution_count": null,
   "metadata": {},
   "outputs": [],
   "source": [
    "optimesh = optimize(source_mesh, stereographic_mesh, face_weights, correction_strength, padding=padding)\n",
    "plot_mesh(optimesh)\n",
    "warped = warp(image, optimesh, downsample=10)"
   ]
  },
  {
   "cell_type": "code",
   "execution_count": null,
   "metadata": {},
   "outputs": [],
   "source": [
    "# lbd_f = [2.0, 4.0, 8.0]\n",
    "# lbd_b = [1.0, 2.0, 4.0]\n",
    "# lbd_r = [0.25, 0.5, 1.0]\n",
    "# lbd_a = [2.0, 4.0, 8.0]\n",
    "\n",
    "# for lbd_f in [2.0, 4.0, 8.0]:\n",
    "#     for lbd_b in [1.0, 2.0, 4.0]:\n",
    "#         for lbd_r in [0.25, 0.5, 1.0]:\n",
    "#             for lbd_a in [2.0, 4.0, 8.0]:\n",
    "#                 optimesh = optimize(source_mesh, stereographic_mesh, face_weights, correction_strength,\n",
    "#                                     padding=4, lbd_f=lbd_f, lbd_b=lbd_b, lbd_r=lbd_r, lbd_a=lbd_a,\n",
    "#                                     lr=1.0, max_iters=200)\n",
    "#                 plot_mesh(optimesh, save=f'mesh_{lbd_f}_{lbd_b}_{lbd_r}_{lbd_a}.png')\n",
    "#                 warped = warp(image, optimesh, downsample=10)\n",
    "#                 plt.imsave(f'warped_{lbd_f}_{lbd_b}_{lbd_r}_{lbd_a}.png', warped)"
   ]
  }
 ],
 "metadata": {
  "kernelspec": {
   "display_name": "15663",
   "language": "python",
   "name": "python3"
  },
  "language_info": {
   "codemirror_mode": {
    "name": "ipython",
    "version": 3
   },
   "file_extension": ".py",
   "mimetype": "text/x-python",
   "name": "python",
   "nbconvert_exporter": "python",
   "pygments_lexer": "ipython3",
   "version": "3.9.18"
  }
 },
 "nbformat": 4,
 "nbformat_minor": 2
}
